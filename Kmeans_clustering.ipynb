{
 "cells": [
  {
   "cell_type": "markdown",
   "metadata": {},
   "source": [
    "# 1 Import Libraries"
   ]
  },
  {
   "cell_type": "code",
   "execution_count": 1,
   "metadata": {},
   "outputs": [],
   "source": [
    "import pandas as pd\n",
    "from sklearn.preprocessing import StandardScaler\n",
    "from sklearn.cluster import KMeans\n",
    "from sklearn.metrics import silhouette_score"
   ]
  },
  {
   "cell_type": "markdown",
   "metadata": {},
   "source": [
    "# 2 Load Dataset"
   ]
  },
  {
   "cell_type": "code",
   "execution_count": 2,
   "metadata": {},
   "outputs": [
    {
     "data": {
      "text/html": [
       "<div>\n",
       "<style scoped>\n",
       "    .dataframe tbody tr th:only-of-type {\n",
       "        vertical-align: middle;\n",
       "    }\n",
       "\n",
       "    .dataframe tbody tr th {\n",
       "        vertical-align: top;\n",
       "    }\n",
       "\n",
       "    .dataframe thead th {\n",
       "        text-align: right;\n",
       "    }\n",
       "</style>\n",
       "<table border=\"1\" class=\"dataframe\">\n",
       "  <thead>\n",
       "    <tr style=\"text-align: right;\">\n",
       "      <th></th>\n",
       "      <th>age</th>\n",
       "      <th>sex</th>\n",
       "      <th>chol</th>\n",
       "    </tr>\n",
       "  </thead>\n",
       "  <tbody>\n",
       "    <tr>\n",
       "      <th>0</th>\n",
       "      <td>63</td>\n",
       "      <td>1</td>\n",
       "      <td>233</td>\n",
       "    </tr>\n",
       "    <tr>\n",
       "      <th>1</th>\n",
       "      <td>37</td>\n",
       "      <td>1</td>\n",
       "      <td>250</td>\n",
       "    </tr>\n",
       "    <tr>\n",
       "      <th>2</th>\n",
       "      <td>41</td>\n",
       "      <td>0</td>\n",
       "      <td>204</td>\n",
       "    </tr>\n",
       "    <tr>\n",
       "      <th>3</th>\n",
       "      <td>56</td>\n",
       "      <td>1</td>\n",
       "      <td>236</td>\n",
       "    </tr>\n",
       "    <tr>\n",
       "      <th>4</th>\n",
       "      <td>57</td>\n",
       "      <td>0</td>\n",
       "      <td>354</td>\n",
       "    </tr>\n",
       "    <tr>\n",
       "      <th>...</th>\n",
       "      <td>...</td>\n",
       "      <td>...</td>\n",
       "      <td>...</td>\n",
       "    </tr>\n",
       "    <tr>\n",
       "      <th>298</th>\n",
       "      <td>57</td>\n",
       "      <td>0</td>\n",
       "      <td>241</td>\n",
       "    </tr>\n",
       "    <tr>\n",
       "      <th>299</th>\n",
       "      <td>45</td>\n",
       "      <td>1</td>\n",
       "      <td>264</td>\n",
       "    </tr>\n",
       "    <tr>\n",
       "      <th>300</th>\n",
       "      <td>68</td>\n",
       "      <td>1</td>\n",
       "      <td>193</td>\n",
       "    </tr>\n",
       "    <tr>\n",
       "      <th>301</th>\n",
       "      <td>57</td>\n",
       "      <td>1</td>\n",
       "      <td>131</td>\n",
       "    </tr>\n",
       "    <tr>\n",
       "      <th>302</th>\n",
       "      <td>57</td>\n",
       "      <td>0</td>\n",
       "      <td>236</td>\n",
       "    </tr>\n",
       "  </tbody>\n",
       "</table>\n",
       "<p>303 rows × 3 columns</p>\n",
       "</div>"
      ],
      "text/plain": [
       "     age  sex  chol\n",
       "0     63    1   233\n",
       "1     37    1   250\n",
       "2     41    0   204\n",
       "3     56    1   236\n",
       "4     57    0   354\n",
       "..   ...  ...   ...\n",
       "298   57    0   241\n",
       "299   45    1   264\n",
       "300   68    1   193\n",
       "301   57    1   131\n",
       "302   57    0   236\n",
       "\n",
       "[303 rows x 3 columns]"
      ]
     },
     "execution_count": 2,
     "metadata": {},
     "output_type": "execute_result"
    }
   ],
   "source": [
    "medical_df=pd.read_csv(\"D:\\\\python odyssey\\\\day8\\\\kmeans\\\\heart_dataset_mini.csv\")\n",
    "medical_df"
   ]
  },
  {
   "cell_type": "code",
   "execution_count": 3,
   "metadata": {},
   "outputs": [
    {
     "data": {
      "text/html": [
       "<div>\n",
       "<style scoped>\n",
       "    .dataframe tbody tr th:only-of-type {\n",
       "        vertical-align: middle;\n",
       "    }\n",
       "\n",
       "    .dataframe tbody tr th {\n",
       "        vertical-align: top;\n",
       "    }\n",
       "\n",
       "    .dataframe thead th {\n",
       "        text-align: right;\n",
       "    }\n",
       "</style>\n",
       "<table border=\"1\" class=\"dataframe\">\n",
       "  <thead>\n",
       "    <tr style=\"text-align: right;\">\n",
       "      <th></th>\n",
       "      <th>age</th>\n",
       "      <th>chol</th>\n",
       "    </tr>\n",
       "  </thead>\n",
       "  <tbody>\n",
       "    <tr>\n",
       "      <th>0</th>\n",
       "      <td>63</td>\n",
       "      <td>233</td>\n",
       "    </tr>\n",
       "    <tr>\n",
       "      <th>1</th>\n",
       "      <td>37</td>\n",
       "      <td>250</td>\n",
       "    </tr>\n",
       "    <tr>\n",
       "      <th>2</th>\n",
       "      <td>41</td>\n",
       "      <td>204</td>\n",
       "    </tr>\n",
       "    <tr>\n",
       "      <th>3</th>\n",
       "      <td>56</td>\n",
       "      <td>236</td>\n",
       "    </tr>\n",
       "    <tr>\n",
       "      <th>4</th>\n",
       "      <td>57</td>\n",
       "      <td>354</td>\n",
       "    </tr>\n",
       "    <tr>\n",
       "      <th>...</th>\n",
       "      <td>...</td>\n",
       "      <td>...</td>\n",
       "    </tr>\n",
       "    <tr>\n",
       "      <th>298</th>\n",
       "      <td>57</td>\n",
       "      <td>241</td>\n",
       "    </tr>\n",
       "    <tr>\n",
       "      <th>299</th>\n",
       "      <td>45</td>\n",
       "      <td>264</td>\n",
       "    </tr>\n",
       "    <tr>\n",
       "      <th>300</th>\n",
       "      <td>68</td>\n",
       "      <td>193</td>\n",
       "    </tr>\n",
       "    <tr>\n",
       "      <th>301</th>\n",
       "      <td>57</td>\n",
       "      <td>131</td>\n",
       "    </tr>\n",
       "    <tr>\n",
       "      <th>302</th>\n",
       "      <td>57</td>\n",
       "      <td>236</td>\n",
       "    </tr>\n",
       "  </tbody>\n",
       "</table>\n",
       "<p>303 rows × 2 columns</p>\n",
       "</div>"
      ],
      "text/plain": [
       "     age  chol\n",
       "0     63   233\n",
       "1     37   250\n",
       "2     41   204\n",
       "3     56   236\n",
       "4     57   354\n",
       "..   ...   ...\n",
       "298   57   241\n",
       "299   45   264\n",
       "300   68   193\n",
       "301   57   131\n",
       "302   57   236\n",
       "\n",
       "[303 rows x 2 columns]"
      ]
     },
     "execution_count": 3,
     "metadata": {},
     "output_type": "execute_result"
    }
   ],
   "source": [
    "X=medical_df[[\"age\",\"chol\"]]\n",
    "X"
   ]
  },
  {
   "cell_type": "code",
   "execution_count": 4,
   "metadata": {},
   "outputs": [
    {
     "data": {
      "text/plain": [
       "age     0\n",
       "chol    0\n",
       "dtype: int64"
      ]
     },
     "execution_count": 4,
     "metadata": {},
     "output_type": "execute_result"
    }
   ],
   "source": [
    "X.isnull().sum()"
   ]
  },
  {
   "cell_type": "code",
   "execution_count": 5,
   "metadata": {},
   "outputs": [
    {
     "data": {
      "text/html": [
       "<div>\n",
       "<style scoped>\n",
       "    .dataframe tbody tr th:only-of-type {\n",
       "        vertical-align: middle;\n",
       "    }\n",
       "\n",
       "    .dataframe tbody tr th {\n",
       "        vertical-align: top;\n",
       "    }\n",
       "\n",
       "    .dataframe thead th {\n",
       "        text-align: right;\n",
       "    }\n",
       "</style>\n",
       "<table border=\"1\" class=\"dataframe\">\n",
       "  <thead>\n",
       "    <tr style=\"text-align: right;\">\n",
       "      <th></th>\n",
       "      <th>age</th>\n",
       "      <th>chol</th>\n",
       "    </tr>\n",
       "  </thead>\n",
       "  <tbody>\n",
       "    <tr>\n",
       "      <th>count</th>\n",
       "      <td>303.000000</td>\n",
       "      <td>303.000000</td>\n",
       "    </tr>\n",
       "    <tr>\n",
       "      <th>mean</th>\n",
       "      <td>54.366337</td>\n",
       "      <td>246.264026</td>\n",
       "    </tr>\n",
       "    <tr>\n",
       "      <th>std</th>\n",
       "      <td>9.082101</td>\n",
       "      <td>51.830751</td>\n",
       "    </tr>\n",
       "    <tr>\n",
       "      <th>min</th>\n",
       "      <td>29.000000</td>\n",
       "      <td>126.000000</td>\n",
       "    </tr>\n",
       "    <tr>\n",
       "      <th>25%</th>\n",
       "      <td>47.500000</td>\n",
       "      <td>211.000000</td>\n",
       "    </tr>\n",
       "    <tr>\n",
       "      <th>50%</th>\n",
       "      <td>55.000000</td>\n",
       "      <td>240.000000</td>\n",
       "    </tr>\n",
       "    <tr>\n",
       "      <th>75%</th>\n",
       "      <td>61.000000</td>\n",
       "      <td>274.500000</td>\n",
       "    </tr>\n",
       "    <tr>\n",
       "      <th>max</th>\n",
       "      <td>77.000000</td>\n",
       "      <td>564.000000</td>\n",
       "    </tr>\n",
       "  </tbody>\n",
       "</table>\n",
       "</div>"
      ],
      "text/plain": [
       "              age        chol\n",
       "count  303.000000  303.000000\n",
       "mean    54.366337  246.264026\n",
       "std      9.082101   51.830751\n",
       "min     29.000000  126.000000\n",
       "25%     47.500000  211.000000\n",
       "50%     55.000000  240.000000\n",
       "75%     61.000000  274.500000\n",
       "max     77.000000  564.000000"
      ]
     },
     "execution_count": 5,
     "metadata": {},
     "output_type": "execute_result"
    }
   ],
   "source": [
    "X.describe()"
   ]
  },
  {
   "cell_type": "markdown",
   "metadata": {},
   "source": [
    "# 3. Visualize the features "
   ]
  },
  {
   "cell_type": "code",
   "execution_count": 6,
   "metadata": {},
   "outputs": [
    {
     "data": {
      "text/plain": [
       "Text(0, 0.5, 'age')"
      ]
     },
     "execution_count": 6,
     "metadata": {},
     "output_type": "execute_result"
    },
    {
     "data": {
      "image/png": "[encoded data removed]",
      "text/plain": [
       "<Figure size 432x288 with 1 Axes>"
      ]
     },
     "metadata": {
      "needs_background": "light"
     },
     "output_type": "display_data"
    }
   ],
   "source": [
    "import matplotlib.pyplot as plt\n",
    "plt.scatter(X.chol,X.age)\n",
    "plt.xlabel(\"Chol\")\n",
    "plt.ylabel(\"age\")"
   ]
  },
  {
   "cell_type": "markdown",
   "metadata": {},
   "source": [
    "# 4 Scale the feature values "
   ]
  },
  {
   "cell_type": "code",
   "execution_count": 7,
   "metadata": {},
   "outputs": [
    {
     "data": {
      "text/plain": [
       "array([[ 9.52196602e-01, -2.56333707e-01],\n",
       "       [-1.91531289e+00,  7.21994916e-02],\n",
       "       [-1.47415758e+00, -8.16772694e-01],\n",
       "       [ 1.80174816e-01, -1.98357261e-01],\n",
       "       [ 2.90463642e-01,  2.08204965e+00],\n",
       "       [ 2.90463642e-01, -1.04867848e+00],\n",
       "       [ 1.80174816e-01,  9.22520713e-01],\n",
       "       [-1.14329110e+00,  3.23430762e-01],\n",
       "       [-2.60980491e-01, -9.13400106e-01],\n",
       "       [ 2.90463642e-01, -1.51249006e+00],\n",
       "       [-4.04028375e-02, -1.40380814e-01],\n",
       "       [-7.02135797e-01,  5.55336549e-01],\n",
       "       [-5.91846970e-01,  3.81407208e-01],\n",
       "       [ 1.06248543e+00, -6.81494318e-01],\n",
       "       [ 4.00752469e-01,  7.09940408e-01],\n",
       "       [-4.81558144e-01, -5.26890460e-01],\n",
       "       [ 4.00752469e-01,  1.81149290e+00],\n",
       "       [ 1.28306308e+00, -3.91612084e-01],\n",
       "       [-1.25357993e+00,  1.42230447e-02],\n",
       "       [ 1.61392956e+00, -1.40380814e-01],\n",
       "       [ 5.11041295e-01, -2.37008225e-01],\n",
       "       [-1.14329110e+00, -2.56333707e-01],\n",
       "       [-1.36386876e+00, -3.91612084e-01],\n",
       "       [ 7.31618948e-01, -6.30788845e-02],\n",
       "       [-1.58444641e+00, -9.13400106e-01],\n",
       "       [ 1.83450721e+00,  1.07712457e+00],\n",
       "       [ 5.11041295e-01, -6.62168836e-01],\n",
       "       [-3.71269317e-01, -1.37721168e+00],\n",
       "       [ 1.17277425e+00,  3.29955504e+00],\n",
       "       [-1.50691664e-01, -9.52051070e-01],\n",
       "       [-1.47415758e+00, -9.32725588e-01],\n",
       "       [ 1.17277425e+00, -1.33856072e+00],\n",
       "       [-1.14329110e+00, -5.26890460e-01],\n",
       "       [-4.04028375e-02,  5.16685585e-01],\n",
       "       [-3.71269317e-01, -6.42843353e-01],\n",
       "       [-9.22713450e-01, -1.33856072e+00],\n",
       "       [-4.04028375e-02,  1.11577554e+00],\n",
       "       [-4.04028375e-02, -2.75659190e-01],\n",
       "       [ 1.17277425e+00,  4.39383655e-01],\n",
       "       [ 1.17277425e+00,  2.19800254e+00],\n",
       "       [-3.71269317e-01,  1.19307747e+00],\n",
       "       [-7.02135797e-01, -2.44279199e-02],\n",
       "       [-1.03300228e+00, -7.39470765e-01],\n",
       "       [-1.50691664e-01,  3.42756244e-01],\n",
       "       [-1.69473524e+00,  1.44430873e+00],\n",
       "       [-2.60980491e-01,  1.52161066e+00],\n",
       "       [-1.14329110e+00, -2.17682743e-01],\n",
       "       [-8.12424623e-01,  2.07477868e-01],\n",
       "       [-1.50691664e-01, -5.84866907e-01],\n",
       "       [-1.50691664e-01, -2.37008225e-01],\n",
       "       [-3.71269317e-01,  1.88152385e-01],\n",
       "       [ 1.28306308e+00,  1.07712457e+00],\n",
       "       [ 8.41907775e-01, -2.94984672e-01],\n",
       "       [-1.14329110e+00, -2.03427808e+00],\n",
       "       [ 9.52196602e-01,  1.10850456e-01],\n",
       "       [-2.60980491e-01, -8.74749141e-01],\n",
       "       [-7.02135797e-01, -4.68914013e-01],\n",
       "       [-1.03300228e+00,  2.65454315e-01],\n",
       "       [-2.24617937e+00, -1.24193330e+00],\n",
       "       [ 2.90463642e-01,  1.09645005e+00],\n",
       "       [ 1.83450721e+00,  3.62081726e-01],\n",
       "       [-4.04028375e-02,  1.21240295e+00],\n",
       "       [-2.60980491e-01, -1.16463138e+00],\n",
       "       [-1.47415758e+00, -8.36098177e-01],\n",
       "       [ 4.00752469e-01, -6.81494318e-01],\n",
       "       [-2.13589054e+00, -1.22260782e+00],\n",
       "       [-3.71269317e-01, -4.68914013e-01],\n",
       "       [-1.03300228e+00, -2.37008225e-01],\n",
       "       [-1.14329110e+00, -5.07564977e-01],\n",
       "       [ 8.41907775e-01, -7.20145283e-01],\n",
       "       [-4.04028375e-02,  2.26803350e-01],\n",
       "       [-3.71269317e-01, -3.72286601e-01],\n",
       "       [-2.79762350e+00, -8.16772694e-01],\n",
       "       [-3.71269317e-01,  2.84779797e-01],\n",
       "       [-1.25357993e+00, -6.42843353e-01],\n",
       "       [ 6.98859891e-02,  7.21994916e-02],\n",
       "       [-3.71269317e-01, -2.44279199e-02],\n",
       "       [ 5.11041295e-01, -4.88239495e-01],\n",
       "       [-2.60980491e-01, -7.97447212e-01],\n",
       "       [ 4.00752469e-01, -1.21055331e-01],\n",
       "       [-1.47415758e+00,  7.21994916e-02],\n",
       "       [-1.03300228e+00,  1.19307747e+00],\n",
       "       [ 6.21330122e-01,  1.38633229e+00],\n",
       "       [-2.60980491e-01,  9.99822642e-01],\n",
       "       [-1.36386876e+00,  3.62081726e-01],\n",
       "       [ 1.39335191e+00,  6.14040093e+00],\n",
       "       [ 1.50364073e+00,  5.93987514e-01],\n",
       "       [-9.22713450e-01, -9.52051070e-01],\n",
       "       [-4.04028375e-02, -6.23517871e-01],\n",
       "       [ 4.00752469e-01,  3.35485270e-02],\n",
       "       [-7.02135797e-01,  1.68826903e-01],\n",
       "       [ 2.90463642e-01, -7.58796247e-01],\n",
       "       [-2.60980491e-01, -4.49588530e-01],\n",
       "       [-4.04028375e-02,  8.06567819e-01],\n",
       "       [-1.03300228e+00, -1.66709392e+00],\n",
       "       [-1.50691664e-01, -3.91612084e-01],\n",
       "       [ 8.41907775e-01,  2.85506894e+00],\n",
       "       [-2.60980491e-01, -2.56333707e-01],\n",
       "       [-1.25357993e+00,  1.32835584e+00],\n",
       "       [-1.50691664e-01, -5.10243757e-03],\n",
       "       [-1.36386876e+00, -4.37534022e-02],\n",
       "       [ 5.11041295e-01,  4.58709138e-01],\n",
       "       [ 9.52196602e-01, -9.90702035e-01],\n",
       "       [-1.36386876e+00, -1.21055331e-01],\n",
       "       [-4.81558144e-01, -9.71376553e-01],\n",
       "       [ 1.50364073e+00, -6.81494318e-01],\n",
       "       [ 1.61392956e+00, -2.37008225e-01],\n",
       "       [-1.03300228e+00, -1.98357261e-01],\n",
       "       [-4.81558144e-01, -4.37534022e-02],\n",
       "       [-4.81558144e-01,  1.49501421e-01],\n",
       "       [ 1.06248543e+00,  1.52161066e+00],\n",
       "       [ 2.90463642e-01, -2.32416031e+00],\n",
       "       [ 1.06248543e+00,  1.28970488e+00],\n",
       "       [-1.25357993e+00, -6.81494318e-01],\n",
       "       [ 6.98859891e-02,  3.04105279e-01],\n",
       "       [-1.91531289e+00, -6.04192389e-01],\n",
       "       [-1.47415758e+00, -6.23517871e-01],\n",
       "       [ 1.80174816e-01, -1.02935300e+00],\n",
       "       [-9.22713450e-01, -8.16772694e-01],\n",
       "       [-9.22713450e-01, -6.30788845e-02],\n",
       "       [ 1.06248543e+00,  1.09645005e+00],\n",
       "       [ 5.11041295e-01,  4.78034620e-01],\n",
       "       [-1.47415758e+00,  4.20058173e-01],\n",
       "       [-4.04028375e-02,  4.00732691e-01],\n",
       "       [-1.69473524e+00, -9.13400106e-01],\n",
       "       [-2.24617937e+00, -7.00819800e-01],\n",
       "       [-8.12424623e-01, -8.16772694e-01],\n",
       "       [ 1.39335191e+00,  5.93987514e-01],\n",
       "       [-2.60980491e-01, -9.71376553e-01],\n",
       "       [ 2.16537369e+00,  4.39383655e-01],\n",
       "       [-4.04028375e-02, -8.74749141e-01],\n",
       "       [-5.91846970e-01,  4.78034620e-01],\n",
       "       [-1.36386876e+00,  9.41846195e-01],\n",
       "       [-1.47415758e+00, -2.17682743e-01],\n",
       "       [-1.47415758e+00,  1.15442650e+00],\n",
       "       [-5.91846970e-01,  4.39383655e-01],\n",
       "       [ 6.21330122e-01, -1.31923523e+00],\n",
       "       [ 8.41907775e-01, -7.39470765e-01],\n",
       "       [ 2.90463642e-01, -8.74749141e-01],\n",
       "       [ 1.06248543e+00,  3.23430762e-01],\n",
       "       [-3.71269317e-01,  9.41846195e-01],\n",
       "       [-1.25357993e+00,  1.09645005e+00],\n",
       "       [-1.36386876e+00, -7.20145283e-01],\n",
       "       [ 1.39335191e+00, -4.49588530e-01],\n",
       "       [ 2.38595135e+00, -9.52051070e-01],\n",
       "       [ 1.72421839e+00, -2.44279199e-02],\n",
       "       [-1.14329110e+00, -8.24043668e-02],\n",
       "       [ 6.21330122e-01, -1.21055331e-01],\n",
       "       [-1.14329110e+00, -3.91612084e-01],\n",
       "       [-1.36386876e+00, -1.28058427e+00],\n",
       "       [ 1.28306308e+00, -3.52961119e-01],\n",
       "       [ 1.83450721e+00, -1.87967422e+00],\n",
       "       [ 1.06248543e+00, -3.72286601e-01],\n",
       "       [ 1.28306308e+00,  6.13312996e-01],\n",
       "       [-1.69473524e+00, -5.07564977e-01],\n",
       "       [ 4.00752469e-01, -9.52051070e-01],\n",
       "       [-8.12424623e-01,  1.30175939e-01],\n",
       "       [-2.13589054e+00, -1.04867848e+00],\n",
       "       [ 4.00752469e-01, -5.07564977e-01],\n",
       "       [ 1.80174816e-01, -4.88239495e-01],\n",
       "       [ 1.80174816e-01, -1.21055331e-01],\n",
       "       [ 6.98859891e-02,  1.85014386e+00],\n",
       "       [-1.47415758e+00, -1.72507036e+00],\n",
       "       [-1.80502406e+00, -1.37721168e+00],\n",
       "       [-1.80502406e+00, -1.37721168e+00],\n",
       "       [ 1.39335191e+00,  7.67916854e-01],\n",
       "       [ 1.39335191e+00, -3.33635637e-01],\n",
       "       [ 8.41907775e-01,  4.20058173e-01],\n",
       "       [ 9.52196602e-01,  1.49501421e-01],\n",
       "       [-1.50691664e-01, -8.36098177e-01],\n",
       "       [ 1.80174816e-01,  1.88152385e-01],\n",
       "       [-7.02135797e-01, -3.33635637e-01],\n",
       "       [ 4.00752469e-01,  7.29265890e-01],\n",
       "       [ 4.00752469e-01, -4.30263048e-01],\n",
       "       [ 6.21330122e-01, -7.78121730e-01],\n",
       "       [-1.58444641e+00, -1.53181554e+00],\n",
       "       [ 6.21330122e-01, -3.14310154e-01],\n",
       "       [ 1.06248543e+00,  1.71486549e+00],\n",
       "       [-1.25357993e+00, -1.33856072e+00],\n",
       "       [ 2.90463642e-01,  5.74662031e-01],\n",
       "       [ 6.98859891e-02,  2.06272417e+00],\n",
       "       [ 1.17277425e+00, -4.10937566e-01],\n",
       "       [ 7.31618948e-01,  1.61823808e+00],\n",
       "       [ 4.00752469e-01, -3.14310154e-01],\n",
       "       [-4.81558144e-01, -6.30788845e-02],\n",
       "       [-1.14329110e+00,  8.45218784e-01],\n",
       "       [ 6.21330122e-01,  1.30175939e-01],\n",
       "       [-4.04028375e-02,  3.81407208e-01],\n",
       "       [-4.81558144e-01, -2.56333707e-01],\n",
       "       [-1.47415758e+00, -1.43518813e+00],\n",
       "       [-3.71269317e-01,  1.13510102e+00],\n",
       "       [ 4.00752469e-01, -5.84866907e-01],\n",
       "       [-4.04028375e-02, -1.12598041e+00],\n",
       "       [ 6.21330122e-01,  6.90614925e-01],\n",
       "       [ 6.21330122e-01, -1.18395686e+00],\n",
       "       [ 5.11041295e-01,  1.54093615e+00],\n",
       "       [-9.22713450e-01, -2.94984672e-01],\n",
       "       [ 1.39335191e+00,  1.49501421e-01],\n",
       "       [ 8.41907775e-01,  4.00732691e-01],\n",
       "       [ 1.17277425e+00,  3.35485270e-02],\n",
       "       [-1.14329110e+00, -9.52051070e-01],\n",
       "       [ 6.21330122e-01,  2.26803350e-01],\n",
       "       [ 4.00752469e-01,  4.58709138e-01],\n",
       "       [ 1.50364073e+00,  5.36011067e-01],\n",
       "       [ 8.41907775e-01, -1.58979199e+00],\n",
       "       [-2.60980491e-01,  1.68826903e-01],\n",
       "       [ 5.11041295e-01, -1.40380814e-01],\n",
       "       [ 6.21330122e-01,  2.26803350e-01],\n",
       "       [-5.91846970e-01, -1.12598041e+00],\n",
       "       [ 5.11041295e-01, -1.33856072e+00],\n",
       "       [ 2.90463642e-01, -3.33635637e-01],\n",
       "       [ 7.31618948e-01,  2.65454315e-01],\n",
       "       [-1.69473524e+00, -5.26890460e-01],\n",
       "       [ 7.31618948e-01,  1.17375198e+00],\n",
       "       [ 1.80174816e-01,  5.28740093e-02],\n",
       "       [-1.25357993e+00,  1.83081838e+00],\n",
       "       [ 8.41907775e-01,  3.23430762e-01],\n",
       "       [ 9.52196602e-01,  1.61823808e+00],\n",
       "       [ 1.17277425e+00,  1.49501421e-01],\n",
       "       [-7.02135797e-01,  1.88152385e-01],\n",
       "       [ 9.52196602e-01,  3.10630021e+00],\n",
       "       [ 6.98859891e-02, -5.65541424e-01],\n",
       "       [ 1.17277425e+00,  6.90614925e-01],\n",
       "       [ 1.80174816e-01,  8.06567819e-01],\n",
       "       [-4.04028375e-02, -1.40380814e-01],\n",
       "       [ 1.72421839e+00, -1.39653716e+00],\n",
       "       [ 8.41907775e-01,  6.71289443e-01],\n",
       "       [-2.13589054e+00, -9.32725588e-01],\n",
       "       [ 5.11041295e-01,  8.06567819e-01],\n",
       "       [ 1.06248543e+00,  1.21240295e+00],\n",
       "       [-8.12424623e-01, -6.30788845e-02],\n",
       "       [ 2.90463642e-01,  8.25893301e-01],\n",
       "       [ 6.98859891e-02,  8.25893301e-01],\n",
       "       [ 1.06248543e+00, -5.10243757e-03],\n",
       "       [ 1.72421839e+00,  1.46363422e+00],\n",
       "       [-3.71269317e-01,  1.01914812e+00],\n",
       "       [ 4.00752469e-01,  1.03847361e+00],\n",
       "       [ 6.21330122e-01,  9.03195231e-01],\n",
       "       [ 2.49624017e+00,  1.11577554e+00],\n",
       "       [-2.13589054e+00,  6.90614925e-01],\n",
       "       [ 1.72421839e+00,  4.39383655e-01],\n",
       "       [ 5.11041295e-01,  5.28740093e-02],\n",
       "       [ 1.06248543e+00, -6.62168836e-01],\n",
       "       [ 2.90463642e-01,  5.36011067e-01],\n",
       "       [ 1.80174816e-01, -1.20328234e+00],\n",
       "       [-7.02135797e-01,  5.36011067e-01],\n",
       "       [ 1.80174816e-01,  3.14495118e+00],\n",
       "       [ 1.28306308e+00, -5.10243757e-03],\n",
       "       [-4.04028375e-02,  7.09940408e-01],\n",
       "       [ 1.61392956e+00,  1.49501421e-01],\n",
       "       [-3.71269317e-01,  9.99822642e-01],\n",
       "       [-1.25357993e+00,  1.42230447e-02],\n",
       "       [ 8.41907775e-01,  9.22520713e-01],\n",
       "       [ 1.39335191e+00,  1.01914812e+00],\n",
       "       [ 5.11041295e-01,  5.16685585e-01],\n",
       "       [-1.03300228e+00,  1.21240295e+00],\n",
       "       [ 4.00752469e-01,  2.46128832e-01],\n",
       "       [-4.81558144e-01, -8.94074623e-01],\n",
       "       [ 8.41907775e-01, -4.37534022e-02],\n",
       "       [-1.80502406e+00, -2.94984672e-01],\n",
       "       [ 1.28306308e+00, -3.52961119e-01],\n",
       "       [-2.60980491e-01, -3.14310154e-01],\n",
       "       [-1.50691664e-01,  6.90614925e-01],\n",
       "       [ 9.52196602e-01,  4.39383655e-01],\n",
       "       [-4.04028375e-02, -7.78121730e-01],\n",
       "       [ 1.28306308e+00, -6.62168836e-01],\n",
       "       [ 6.98859891e-02,  1.56026163e+00],\n",
       "       [-5.91846970e-01, -1.87967422e+00],\n",
       "       [-4.04028375e-02,  7.67916854e-01],\n",
       "       [ 1.80174816e-01,  7.09940408e-01],\n",
       "       [-9.22713450e-01,  5.28740093e-02],\n",
       "       [ 7.31618948e-01, -2.37008225e-01],\n",
       "       [ 1.39335191e+00, -1.79031778e-01],\n",
       "       [ 4.00752469e-01, -2.37008225e-01],\n",
       "       [-8.12424623e-01,  5.55336549e-01],\n",
       "       [-2.60980491e-01, -6.62168836e-01],\n",
       "       [ 4.00752469e-01, -5.46215942e-01],\n",
       "       [ 2.90463642e-01,  2.84779797e-01],\n",
       "       [ 4.00752469e-01,  1.40565777e+00],\n",
       "       [ 7.31618948e-01, -1.55114102e+00],\n",
       "       [-1.36386876e+00,  1.32835584e+00],\n",
       "       [-2.60980491e-01, -8.16772694e-01],\n",
       "       [ 5.11041295e-01, -5.46215942e-01],\n",
       "       [-1.58444641e+00, -4.49588530e-01],\n",
       "       [ 7.31618948e-01, -7.58796247e-01],\n",
       "       [-9.22713450e-01,  1.25105391e+00],\n",
       "       [ 5.11041295e-01, -8.16772694e-01],\n",
       "       [ 2.90463642e-01, -2.75659190e-01],\n",
       "       [ 2.90463642e-01,  1.71486549e+00],\n",
       "       [ 6.98859891e-02, -7.97447212e-01],\n",
       "       [ 7.31618948e-01, -8.36098177e-01],\n",
       "       [ 4.00752469e-01,  1.38633229e+00],\n",
       "       [ 4.00752469e-01, -4.10937566e-01],\n",
       "       [ 1.39335191e+00, -6.62168836e-01],\n",
       "       [-1.14329110e+00, -1.49316457e+00],\n",
       "       [ 9.52196602e-01, -1.14530589e+00],\n",
       "       [ 9.52196602e-01, -9.52051070e-01],\n",
       "       [ 5.11041295e-01, -1.35788620e+00],\n",
       "       [ 2.90463642e-01, -1.01729849e-01],\n",
       "       [-1.03300228e+00,  3.42756244e-01],\n",
       "       [ 1.50364073e+00, -1.02935300e+00],\n",
       "       [ 2.90463642e-01, -2.22753290e+00],\n",
       "       [ 2.90463642e-01, -1.98357261e-01]])"
      ]
     },
     "execution_count": 7,
     "metadata": {},
     "output_type": "execute_result"
    }
   ],
   "source": [
    "scaler=StandardScaler()\n",
    "X=scaler.fit_transform(X)\n",
    "X"
   ]
  },
  {
   "cell_type": "markdown",
   "metadata": {},
   "source": [
    "# 5 fit Model for Different K "
   ]
  },
  {
   "cell_type": "code",
   "execution_count": 8,
   "metadata": {},
   "outputs": [
    {
     "data": {
      "image/jpeg": "[encoded data removed]",
      "text/html": [
       "\n",
       "        <iframe\n",
       "            width=\"400\"\n",
       "            height=\"200\"\n",
       "            src=\"https://www.youtube.com/embed/8luMuQJyxdc\"\n",
       "            frameborder=\"0\"\n",
       "            allowfullscreen\n",
       "        ></iframe>\n",
       "        "
      ],
      "text/plain": [
       "<IPython.lib.display.YouTubeVideo at 0x189d1bb6908>"
      ]
     },
     "execution_count": 8,
     "metadata": {},
     "output_type": "execute_result"
    }
   ],
   "source": [
    "from IPython.display import YouTubeVideo\n",
    "\n",
    "YouTubeVideo('8luMuQJyxdc', width=400, height=200)\n",
    "\n",
    "\n"
   ]
  },
  {
   "cell_type": "code",
   "execution_count": 9,
   "metadata": {},
   "outputs": [
    {
     "data": {
      "image/jpeg": "[encoded data removed]",
      "text/html": [
       "\n",
       "        <iframe\n",
       "            width=\"400\"\n",
       "            height=\"200\"\n",
       "            src=\"https://www.youtube.com/embed/Kmrxc3NpNtQ\"\n",
       "            frameborder=\"0\"\n",
       "            allowfullscreen\n",
       "        ></iframe>\n",
       "        "
      ],
      "text/plain": [
       "<IPython.lib.display.YouTubeVideo at 0x189d1b494c8>"
      ]
     },
     "execution_count": 9,
     "metadata": {},
     "output_type": "execute_result"
    }
   ],
   "source": [
    "YouTubeVideo('Kmrxc3NpNtQ', width=400, height=200)"
   ]
  },
  {
   "cell_type": "code",
   "execution_count": 10,
   "metadata": {},
   "outputs": [
    {
     "data": {
      "text/plain": [
       "[2, 3, 4, 5, 6, 7, 8, 9, 10, 11]"
      ]
     },
     "execution_count": 10,
     "metadata": {},
     "output_type": "execute_result"
    }
   ],
   "source": [
    "list(range(2,12))"
   ]
  },
  {
   "cell_type": "code",
   "execution_count": 11,
   "metadata": {},
   "outputs": [
    {
     "name": "stdout",
     "output_type": "stream",
     "text": [
      "---- inertia 375.14224818605464 silhoutte 0.35642725100730843\n",
      "---- inertia 256.9598573689617 silhoutte 0.3603326502768412\n",
      "---- inertia 207.3588011627035 silhoutte 0.34256800544161103\n",
      "---- inertia 165.2567106271851 silhoutte 0.351113055666146\n",
      "---- inertia 138.3244614208023 silhoutte 0.3556814561758239\n",
      "---- inertia 118.25985139788774 silhoutte 0.3525461911915897\n",
      "---- inertia 105.34245769394377 silhoutte 0.3378717416607325\n",
      "---- inertia 92.3009997241576 silhoutte 0.3592517442383332\n",
      "---- inertia 81.78131322337609 silhoutte 0.3526927917769282\n",
      "---- inertia 75.32536663369663 silhoutte 0.34678236946104796\n"
     ]
    }
   ],
   "source": [
    "\n",
    "model_labels={}\n",
    "centroids={}\n",
    "i_score=[]\n",
    "s_score=[]\n",
    "for k in range(2,12):\n",
    "    #model building\n",
    "    model=KMeans(n_clusters=k)\n",
    "    #model fit \n",
    "    model=model.fit(X)\n",
    "    \n",
    "    # get the output labels\n",
    "    labels=model.labels_\n",
    "    model_labels[k]=labels\n",
    "    \n",
    "    #inertia\n",
    "    i_score.append(model.inertia_)\n",
    "    \n",
    "    #silhouette\n",
    "    s_score.append(silhouette_score(X,labels))\n",
    "    \n",
    "    #centroids\n",
    "    centroids[k]=model.cluster_centers_\n",
    "    \n",
    "    print(f\"---- inertia {model.inertia_} silhoutte {silhouette_score(X,labels)}\")\n",
    "    "
   ]
  },
  {
   "cell_type": "markdown",
   "metadata": {},
   "source": [
    "# 6 Plot the inertia and Silhouette score"
   ]
  },
  {
   "cell_type": "code",
   "execution_count": 12,
   "metadata": {},
   "outputs": [
    {
     "data": {
      "text/plain": [
       "Text(0.5, 0, 'K')"
      ]
     },
     "execution_count": 12,
     "metadata": {},
     "output_type": "execute_result"
    },
    {
     "data": {
      "image/png": "[encoded data removed]",
      "text/plain": [
       "<Figure size 432x288 with 2 Axes>"
      ]
     },
     "metadata": {
      "needs_background": "light"
     },
     "output_type": "display_data"
    }
   ],
   "source": [
    "fig,ax=plt.subplots(2,1,sharex=True)\n",
    "plt.subplot(211) #row,solumn,plot\n",
    "plt.plot(range(2,12),i_score,\"o--\")\n",
    "plt.ylabel(\"inertia\")\n",
    "\n",
    "plt.subplot(212) #row,solumn,plot\n",
    "plt.plot(range(2,12),s_score,\"o--\")\n",
    "plt.ylabel(\"silhouette\")\n",
    "plt.xlabel(\"K\")\n"
   ]
  },
  {
   "cell_type": "markdown",
   "metadata": {},
   "source": [
    "# 7 Get the cluster label of the best model and plot the clusters "
   ]
  },
  {
   "cell_type": "code",
   "execution_count": 13,
   "metadata": {},
   "outputs": [],
   "source": [
    "K_labels=model_labels[3]"
   ]
  },
  {
   "cell_type": "code",
   "execution_count": 14,
   "metadata": {},
   "outputs": [],
   "source": [
    "k_centroid=centroids[3]"
   ]
  },
  {
   "cell_type": "code",
   "execution_count": 49,
   "metadata": {},
   "outputs": [
    {
     "data": {
      "text/plain": [
       "<matplotlib.legend.Legend at 0x189d21ddc08>"
      ]
     },
     "execution_count": 49,
     "metadata": {},
     "output_type": "execute_result"
    },
    {
     "data": {
      "image/png": "[encoded data removed]",
      "text/plain": [
       "<Figure size 360x360 with 1 Axes>"
      ]
     },
     "metadata": {
      "needs_background": "light"
     },
     "output_type": "display_data"
    }
   ],
   "source": [
    "fig,ax=plt.subplots(figsize=(5,5))\n",
    "# 1st cluster\n",
    "plt.scatter(X[K_labels == 0,0],X[K_labels == 0,1],c=\"green\",label=\"cluster1\")\n",
    "#2nd cluster\n",
    "plt.scatter(X[K_labels == 1,0],X[K_labels == 1,1],c=\"yellow\",label=\"cluster2\")\n",
    "#3rd cluster\n",
    "plt.scatter(X[K_labels == 2,0],X[K_labels == 2,1],c=\"blue\",label=\"cluster3\")\n",
    "#3 cluster centroids\n",
    "plt.scatter(k_centroid[:,0],k_centroid[:,1],c=\"r\",label=\"centroids\")\n",
    "plt.xlabel(\"chol\")\n",
    "plt.ylabel(\"age\")\n",
    "\n"
   ]
  },
  {
   "cell_type": "code",
   "execution_count": 16,
   "metadata": {},
   "outputs": [
    {
     "data": {
      "text/html": [
       "<div>\n",
       "<style scoped>\n",
       "    .dataframe tbody tr th:only-of-type {\n",
       "        vertical-align: middle;\n",
       "    }\n",
       "\n",
       "    .dataframe tbody tr th {\n",
       "        vertical-align: top;\n",
       "    }\n",
       "\n",
       "    .dataframe thead th {\n",
       "        text-align: right;\n",
       "    }\n",
       "</style>\n",
       "<table border=\"1\" class=\"dataframe\">\n",
       "  <thead>\n",
       "    <tr style=\"text-align: right;\">\n",
       "      <th></th>\n",
       "      <th>age</th>\n",
       "      <th>chol</th>\n",
       "    </tr>\n",
       "  </thead>\n",
       "  <tbody>\n",
       "    <tr>\n",
       "      <th>0</th>\n",
       "      <td>63</td>\n",
       "      <td>233</td>\n",
       "    </tr>\n",
       "    <tr>\n",
       "      <th>1</th>\n",
       "      <td>37</td>\n",
       "      <td>250</td>\n",
       "    </tr>\n",
       "    <tr>\n",
       "      <th>2</th>\n",
       "      <td>41</td>\n",
       "      <td>204</td>\n",
       "    </tr>\n",
       "    <tr>\n",
       "      <th>3</th>\n",
       "      <td>56</td>\n",
       "      <td>236</td>\n",
       "    </tr>\n",
       "    <tr>\n",
       "      <th>4</th>\n",
       "      <td>57</td>\n",
       "      <td>354</td>\n",
       "    </tr>\n",
       "    <tr>\n",
       "      <th>...</th>\n",
       "      <td>...</td>\n",
       "      <td>...</td>\n",
       "    </tr>\n",
       "    <tr>\n",
       "      <th>298</th>\n",
       "      <td>57</td>\n",
       "      <td>241</td>\n",
       "    </tr>\n",
       "    <tr>\n",
       "      <th>299</th>\n",
       "      <td>45</td>\n",
       "      <td>264</td>\n",
       "    </tr>\n",
       "    <tr>\n",
       "      <th>300</th>\n",
       "      <td>68</td>\n",
       "      <td>193</td>\n",
       "    </tr>\n",
       "    <tr>\n",
       "      <th>301</th>\n",
       "      <td>57</td>\n",
       "      <td>131</td>\n",
       "    </tr>\n",
       "    <tr>\n",
       "      <th>302</th>\n",
       "      <td>57</td>\n",
       "      <td>236</td>\n",
       "    </tr>\n",
       "  </tbody>\n",
       "</table>\n",
       "<p>303 rows × 2 columns</p>\n",
       "</div>"
      ],
      "text/plain": [
       "     age  chol\n",
       "0     63   233\n",
       "1     37   250\n",
       "2     41   204\n",
       "3     56   236\n",
       "4     57   354\n",
       "..   ...   ...\n",
       "298   57   241\n",
       "299   45   264\n",
       "300   68   193\n",
       "301   57   131\n",
       "302   57   236\n",
       "\n",
       "[303 rows x 2 columns]"
      ]
     },
     "execution_count": 16,
     "metadata": {},
     "output_type": "execute_result"
    }
   ],
   "source": [
    "analysis=medical_df[[\"age\",\"chol\"]].copy()\n",
    "analysis"
   ]
  },
  {
   "cell_type": "code",
   "execution_count": 17,
   "metadata": {},
   "outputs": [
    {
     "data": {
      "text/html": [
       "<div>\n",
       "<style scoped>\n",
       "    .dataframe tbody tr th:only-of-type {\n",
       "        vertical-align: middle;\n",
       "    }\n",
       "\n",
       "    .dataframe tbody tr th {\n",
       "        vertical-align: top;\n",
       "    }\n",
       "\n",
       "    .dataframe thead th {\n",
       "        text-align: right;\n",
       "    }\n",
       "</style>\n",
       "<table border=\"1\" class=\"dataframe\">\n",
       "  <thead>\n",
       "    <tr style=\"text-align: right;\">\n",
       "      <th></th>\n",
       "      <th>age</th>\n",
       "      <th>chol</th>\n",
       "      <th>label</th>\n",
       "    </tr>\n",
       "  </thead>\n",
       "  <tbody>\n",
       "    <tr>\n",
       "      <th>0</th>\n",
       "      <td>63</td>\n",
       "      <td>233</td>\n",
       "      <td>0</td>\n",
       "    </tr>\n",
       "    <tr>\n",
       "      <th>1</th>\n",
       "      <td>37</td>\n",
       "      <td>250</td>\n",
       "      <td>1</td>\n",
       "    </tr>\n",
       "    <tr>\n",
       "      <th>2</th>\n",
       "      <td>41</td>\n",
       "      <td>204</td>\n",
       "      <td>1</td>\n",
       "    </tr>\n",
       "    <tr>\n",
       "      <th>3</th>\n",
       "      <td>56</td>\n",
       "      <td>236</td>\n",
       "      <td>0</td>\n",
       "    </tr>\n",
       "    <tr>\n",
       "      <th>4</th>\n",
       "      <td>57</td>\n",
       "      <td>354</td>\n",
       "      <td>2</td>\n",
       "    </tr>\n",
       "    <tr>\n",
       "      <th>...</th>\n",
       "      <td>...</td>\n",
       "      <td>...</td>\n",
       "      <td>...</td>\n",
       "    </tr>\n",
       "    <tr>\n",
       "      <th>298</th>\n",
       "      <td>57</td>\n",
       "      <td>241</td>\n",
       "      <td>0</td>\n",
       "    </tr>\n",
       "    <tr>\n",
       "      <th>299</th>\n",
       "      <td>45</td>\n",
       "      <td>264</td>\n",
       "      <td>1</td>\n",
       "    </tr>\n",
       "    <tr>\n",
       "      <th>300</th>\n",
       "      <td>68</td>\n",
       "      <td>193</td>\n",
       "      <td>0</td>\n",
       "    </tr>\n",
       "    <tr>\n",
       "      <th>301</th>\n",
       "      <td>57</td>\n",
       "      <td>131</td>\n",
       "      <td>0</td>\n",
       "    </tr>\n",
       "    <tr>\n",
       "      <th>302</th>\n",
       "      <td>57</td>\n",
       "      <td>236</td>\n",
       "      <td>0</td>\n",
       "    </tr>\n",
       "  </tbody>\n",
       "</table>\n",
       "<p>303 rows × 3 columns</p>\n",
       "</div>"
      ],
      "text/plain": [
       "     age  chol  label\n",
       "0     63   233      0\n",
       "1     37   250      1\n",
       "2     41   204      1\n",
       "3     56   236      0\n",
       "4     57   354      2\n",
       "..   ...   ...    ...\n",
       "298   57   241      0\n",
       "299   45   264      1\n",
       "300   68   193      0\n",
       "301   57   131      0\n",
       "302   57   236      0\n",
       "\n",
       "[303 rows x 3 columns]"
      ]
     },
     "execution_count": 17,
     "metadata": {},
     "output_type": "execute_result"
    }
   ],
   "source": [
    "analysis[\"label\"]=K_labels\n",
    "analysis"
   ]
  },
  {
   "cell_type": "code",
   "execution_count": 18,
   "metadata": {},
   "outputs": [
    {
     "data": {
      "text/html": [
       "<div>\n",
       "<style scoped>\n",
       "    .dataframe tbody tr th:only-of-type {\n",
       "        vertical-align: middle;\n",
       "    }\n",
       "\n",
       "    .dataframe tbody tr th {\n",
       "        vertical-align: top;\n",
       "    }\n",
       "\n",
       "    .dataframe thead th {\n",
       "        text-align: right;\n",
       "    }\n",
       "</style>\n",
       "<table border=\"1\" class=\"dataframe\">\n",
       "  <thead>\n",
       "    <tr style=\"text-align: right;\">\n",
       "      <th></th>\n",
       "      <th>age</th>\n",
       "      <th>chol</th>\n",
       "    </tr>\n",
       "    <tr>\n",
       "      <th>label</th>\n",
       "      <th></th>\n",
       "      <th></th>\n",
       "    </tr>\n",
       "  </thead>\n",
       "  <tbody>\n",
       "    <tr>\n",
       "      <th>0</th>\n",
       "      <td>59.470588</td>\n",
       "      <td>218.285714</td>\n",
       "    </tr>\n",
       "    <tr>\n",
       "      <th>1</th>\n",
       "      <td>43.920000</td>\n",
       "      <td>230.530000</td>\n",
       "    </tr>\n",
       "    <tr>\n",
       "      <th>2</th>\n",
       "      <td>59.571429</td>\n",
       "      <td>304.630952</td>\n",
       "    </tr>\n",
       "  </tbody>\n",
       "</table>\n",
       "</div>"
      ],
      "text/plain": [
       "             age        chol\n",
       "label                       \n",
       "0      59.470588  218.285714\n",
       "1      43.920000  230.530000\n",
       "2      59.571429  304.630952"
      ]
     },
     "execution_count": 18,
     "metadata": {},
     "output_type": "execute_result"
    }
   ],
   "source": [
    "analysis.groupby(\"label\")[\"age\",\"chol\"].mean()"
   ]
  },
  {
   "cell_type": "markdown",
   "metadata": {},
   "source": [
    "# Prediction "
   ]
  },
  {
   "cell_type": "code",
   "execution_count": 61,
   "metadata": {},
   "outputs": [
    {
     "data": {
      "text/plain": [
       "array([[ 30, 150]])"
      ]
     },
     "execution_count": 61,
     "metadata": {},
     "output_type": "execute_result"
    }
   ],
   "source": [
    "import numpy as np\n",
    "person_01=np.array([[30,150]])\n",
    "person_01"
   ]
  },
  {
   "cell_type": "code",
   "execution_count": 62,
   "metadata": {},
   "outputs": [
    {
     "data": {
      "text/plain": [
       "array([[-2.68733467, -1.86034874]])"
      ]
     },
     "execution_count": 62,
     "metadata": {},
     "output_type": "execute_result"
    }
   ],
   "source": [
    "person_01=scaler.transform(person_01)\n",
    "person_01"
   ]
  },
  {
   "cell_type": "code",
   "execution_count": 65,
   "metadata": {},
   "outputs": [],
   "source": [
    "model=KMeans(n_clusters=3)\n",
    "#model fit \n",
    "model=model.fit(X)"
   ]
  },
  {
   "cell_type": "code",
   "execution_count": 66,
   "metadata": {},
   "outputs": [
    {
     "data": {
      "text/plain": [
       "array([2])"
      ]
     },
     "execution_count": 66,
     "metadata": {},
     "output_type": "execute_result"
    }
   ],
   "source": [
    "model.predict(person_01)"
   ]
  },
  {
   "cell_type": "code",
   "execution_count": null,
   "metadata": {},
   "outputs": [],
   "source": [
    "0- 1st cluster ,1-2nd cluster ,2 - 3rd cluster \n"
   ]
  }
 ],
 "metadata": {
  "kernelspec": {
   "display_name": "Python 3",
   "language": "python",
   "name": "python3"
  },
  "language_info": {
   "codemirror_mode": {
    "name": "ipython",
    "version": 3
   },
   "file_extension": ".py",
   "mimetype": "text/x-python",
   "name": "python",
   "nbconvert_exporter": "python",
   "pygments_lexer": "ipython3",
   "version": "3.7.6"
  }
 },
 "nbformat": 4,
 "nbformat_minor": 2
}
